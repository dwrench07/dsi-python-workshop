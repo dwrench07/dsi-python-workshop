{
 "cells": [
  {
   "cell_type": "markdown",
   "metadata": {},
   "source": [
    "# Summary of World Cup Results\n",
    "\n",
    "In the `data` folder you can find directory called `worldcup`. This contains the results of all the soccer matches for the world cup. Each match is in a separate file.\n",
    "\n",
    "Your job will be to write a python script which will read in this data and give a summary of the results for a specific team.\n",
    "\n",
    "The file `worldcup.py` contains starter code for your script.\n",
    "\n",
    "You will be able to run your script like this:\n",
    "\n",
    "```\n",
    "python src/worldcup.py data/worldcup Belize\n",
    "```\n",
    "Example Data:\n",
    "```\n",
    "    22 MAR 2015 - 19:00\n",
    "    National Stadium\n",
    "    Waterford\n",
    "    Barbados - US Virgin Islands\n",
    "    0-1\n",
    "```\n",
    "And get results like this:\n",
    "\n",
    "```\n",
    "------------------------------------\n",
    "Mar 29: Belize (1) - Cayman Islands (1)\n",
    "Mar 25: Belize (0) - Cayman Islands (0)\n",
    "Jun 14: Belize (3) - Dominican Republic (0)\n",
    "Jun 11: Belize (2) - Dominican Republic (1)\n",
    "         ------------------\n",
    "Belize played a total of 4 games.\n",
    "2 wins, 0 losses, 2 ties, 6 total goals\n",
    "------------------------------------\n",
    "```"
   ]
  },
  {
   "cell_type": "markdown",
   "metadata": {},
   "source": [
    "1. Look at the data so you understand how it is formatted.\n",
    "\n",
    "2. Look at the docstrings in `worldcup.py` and look at the test cases in `test_worldcup.py`.\n",
    "\n",
    "3. Run tests with this command: `make worldcup` while in the home (day1) directory.\n",
    "\n",
    "4. Fill in the functions in `worldcup.py` according to their docstrings. Make sure to run the test suite after each time you complete a function.\n",
    "\n",
    "    The order they are in the file is a sensible order to do them in.\n",
    "\n",
    "    A couple things are already implemented for you! Note how we use the `os` module to get all the files in the directory. You can try running `os.listdir('data/worldcup')` and `os.path.join('data', 'worldcup', '1-1.txt')` in `ipython` to get a sense of what these functions are doing.\n",
    "\n",
    "5. When completed, verify that you can run your script like this: `python src/worldcup.py data/worldcup Belize` to get the results for Belize. Make sure that it shows each individual game Belize played in as well as the summary."
   ]
  },
  {
   "cell_type": "code",
   "execution_count": null,
   "metadata": {
    "collapsed": true
   },
   "outputs": [],
   "source": [
    "from datetime import datetime\n",
    "import os\n",
    "import sys\n",
    "\n",
    "\n",
    "def read_game_info(filename):\n",
    "    \"\"\"\n",
    "    INPUT: string\n",
    "    OUTPUT: tuple of string, string, string, int, int\n",
    "\n",
    "    Given the filename of a game, return the time, team names and score for the\n",
    "    game. \n",
    "    \n",
    "    Return these values:\n",
    "        time: string representing time of game\n",
    "        team1: first team name\n",
    "        team2: second team name\n",
    "        score1: score of first team\n",
    "        score2: score of second team\n",
    "        \n",
    "    What I want:\n",
    "    {\"team\": \"\"{\n",
    "        \"games\": {\n",
    "            \"opponent\": \"\",\n",
    "            \"opp_score\": int,\n",
    "            \"team_score\": int\n",
    "            }\n",
    "        \"goals\": int,\n",
    "        \"wins\": int,\n",
    "        \"losses\": int\n",
    "        \n",
    "        }\n",
    "    \n",
    "    }\n",
    "        \n",
    "    \"\"\"\n",
    "    data_dir = 'day1/data/worldcup/'\n",
    "    for in_file in data_dir:\n",
    "        with open(\"string.txt\", \"rb\") as in_file:\n",
    "            content = json.load(in_file)\n",
    "            \n",
    "        with open(\"stringJson.txt\", \"wb\") as out_file:\n",
    "            json.dump(content, out_file, indent=1)"
   ]
  },
  {
   "cell_type": "code",
   "execution_count": null,
   "metadata": {
    "collapsed": true
   },
   "outputs": [],
   "source": [
    "def display_game(time, team, other, team_score, other_score):\n",
    "    '''\n",
    "    INPUT: string, string, string, int, int\n",
    "    OUTPUT: string\n",
    "\n",
    "    Given the time, names of the teams and score, return a one line string\n",
    "    presentation of the results.\n",
    "    \n",
    "    Example Output:\n",
    "    ------------------------------------\n",
    "    Mar 29: Belize (1) - Cayman Islands (1)\n",
    "    Mar 25: Belize (0) - Cayman Islands (0)\n",
    "    Jun 14: Belize (3) - Dominican Republic (0)\n",
    "    Jun 11: Belize (2) - Dominican Republic (1)\n",
    "    ------------------------------------\n",
    "    '''\n",
    "    print(\"-\"*25)\n",
    "    print(f\"{date}: {team1} ({team_score}) - {opponent} ({opp_score})\\n\")\n",
    "    print(\"-\"*25)"
   ]
  },
  {
   "cell_type": "code",
   "execution_count": null,
   "metadata": {
    "collapsed": true
   },
   "outputs": [],
   "source": [
    "def display_summary(team, data, detailed=False):\n",
    "    '''\n",
    "    INPUT: string, list of tuples, bool\n",
    "    OUTPUT: string\n",
    "\n",
    "    Given the data (list of tuples of game data), return a string containing\n",
    "    the summary of results for the given team. \n",
    "    \n",
    "    This includes: \n",
    "        # games played,\n",
    "        # wins, \n",
    "        # losses, \n",
    "        # ties, and \n",
    "        # goals scored.\n",
    "\n",
    "    If detailed is True, also include in the string all the games for the given\n",
    "    team.\n",
    "    \n",
    "    Example Output:\n",
    "    ------------------------------------\n",
    "    Belize played a total of 4 games.\n",
    "    2 wins, 0 losses, 2 ties, 6 total goals\n",
    "    ------------------------------------\n",
    "    '''\n",
    "    \n",
    "    print(\"-\"*25)\n",
    "    print(f\"{team} played a total of {games} games.\")\n",
    "    print(f\"{wins} wins, {losses} losses, {ties} ties, {goals} total goals.\")\n",
    "    print(\"-\"*25)"
   ]
  },
  {
   "cell_type": "code",
   "execution_count": null,
   "metadata": {
    "collapsed": true
   },
   "outputs": [],
   "source": [
    "def run(directory, team):\n",
    "    \"\"\"\n",
    "    INPUT: string, string\n",
    "    OUTPUT: None\n",
    "\n",
    "    Given the directory where the data is stored and the team name of interest,\n",
    "    read the data from the directory and display the summary of results for the\n",
    "    given team.\n",
    "    \"\"\"\n",
    "    data = []\n",
    "    for filename in os.listdir(directory):\n",
    "        data.append(read_game_info(os.path.join(directory, filename)))\n",
    "    print(display_summary(team, data, detailed=True))"
   ]
  },
  {
   "cell_type": "code",
   "execution_count": null,
   "metadata": {
    "collapsed": true
   },
   "outputs": [],
   "source": [
    "def main():\n",
    "    \"\"\"\n",
    "    INPUT: None\n",
    "    OUTPUT: None\n",
    "\n",
    "    Get the directory name and team name from the arguments given. If arguments\n",
    "    are valid, display the summary of results. Otherwise, exit the program.\n",
    "    \"\"\"\n",
    "    error_message = \"Usage: python worldcup.py directory team\\n\" \\\n",
    "                    \"       e.g. python worldcup.py worldcup USA\"\n",
    "    if len(sys.argv) != 3:\n",
    "        print(error_message)\n",
    "        exit()\n",
    "    directory = sys.argv[1]\n",
    "    if not os.path.exists(directory):\n",
    "        print(\"{0} is not a valid directory.\".format(directory))\n",
    "        print(error_message)\n",
    "        exit()\n",
    "    team = sys.argv[2]\n",
    "    run(directory, team)\n",
    "\n",
    "\n",
    "if __name__ == '__main__':\n",
    "    main()"
   ]
  },
  {
   "cell_type": "markdown",
   "metadata": {},
   "source": [
    "### Extra Credit\n",
    "\n",
    "1. Use the `datetime` module ([documentation](https://docs.python.org/2/library/datetime.html)) to print the date in a different format than you get it going in.\n",
    "\n",
    "    Here is example code to help you:\n",
    "\n",
    "    ```python\n",
    "    datetime.strptime('29 MAR 2015 - 19:00', '%d %b %Y - %H:%M').strftime('%m/%d')\n",
    "    ```\n",
    "\n",
    "    Can you get it to print in the format `Mar 29`?"
   ]
  },
  {
   "cell_type": "code",
   "execution_count": null,
   "metadata": {
    "collapsed": true
   },
   "outputs": [],
   "source": [
    ""
   ]
  }
 ],
 "metadata": {
  "kernelspec": {
   "display_name": "Python 3",
   "language": "python",
   "name": "python3"
  },
  "language_info": {
   "codemirror_mode": {
    "name": "ipython",
    "version": 3.0
   },
   "file_extension": ".py",
   "mimetype": "text/x-python",
   "name": "python",
   "nbconvert_exporter": "python",
   "pygments_lexer": "ipython3",
   "version": "3.6.1"
  }
 },
 "nbformat": 4,
 "nbformat_minor": 0
}