{
 "cells": [
  {
   "cell_type": "markdown",
   "metadata": {},
   "source": [
    "## Exercises to attain mastery of Python dictionaries."
   ]
  },
  {
   "cell_type": "code",
   "execution_count": 1,
   "metadata": {},
   "outputs": [
    {
     "name": "stdout",
     "output_type": "stream",
     "text": [
      "something: 4\n",
      "other: pie\n"
     ]
    }
   ],
   "source": [
    "def dict_to_str(input_dict):\n",
    "    \"\"\"Return a str containing each key and value in dict d.\n",
    "\n",
    "    Keys and values are separated by a colon and a space.\n",
    "    Each key-value pair is separated by a new line.\n",
    "\n",
    "    Parameters\n",
    "    ----------\n",
    "    input_dict : dict\n",
    "\n",
    "    Returns\n",
    "    -------\n",
    "    output_text : str\n",
    "    \"\"\"\n",
    "    return \"\\n\".join(\"{}: {}\".format(k, v) for (k, v) in input_dict.items())\n",
    "\n",
    "input_dict = {\"something\": 4, \"other\": \"pie\"}\n",
    "print(dict_to_str(input_dict))\n",
    "assert dict_to_str(input_dict) == \"something: 4\\nother: pie\""
   ]
  },
  {
   "cell_type": "code",
   "execution_count": 3,
   "metadata": {},
   "outputs": [
    {
     "name": "stdout",
     "output_type": "stream",
     "text": [
      "[('something', 4), ('other', 7)]\n"
     ]
    },
    {
     "ename": "AssertionError",
     "evalue": "",
     "output_type": "error",
     "traceback": [
      "\u001b[0;31m---------------------------------------------------------------------------\u001b[0m",
      "\u001b[0;31mAssertionError\u001b[0m                            Traceback (most recent call last)",
      "\u001b[0;32m<ipython-input-3-a6785b442476>\u001b[0m in \u001b[0;36m<module>\u001b[0;34m()\u001b[0m\n\u001b[1;32m     39\u001b[0m \u001b[0md\u001b[0m \u001b[0;34m=\u001b[0m \u001b[0;34m{\u001b[0m\u001b[0;34m\"something\"\u001b[0m\u001b[0;34m:\u001b[0m \u001b[0;36m4\u001b[0m\u001b[0;34m,\u001b[0m \u001b[0;34m\"other\"\u001b[0m\u001b[0;34m:\u001b[0m \u001b[0;36m7\u001b[0m\u001b[0;34m}\u001b[0m\u001b[0;34m\u001b[0m\u001b[0m\n\u001b[1;32m     40\u001b[0m \u001b[0mprint\u001b[0m\u001b[0;34m(\u001b[0m\u001b[0mdict_to_str_sorted\u001b[0m\u001b[0;34m(\u001b[0m\u001b[0md\u001b[0m\u001b[0;34m)\u001b[0m\u001b[0;34m)\u001b[0m\u001b[0;34m\u001b[0m\u001b[0m\n\u001b[0;32m---> 41\u001b[0;31m \u001b[0;32massert\u001b[0m \u001b[0mdict_to_str_sorted\u001b[0m\u001b[0;34m(\u001b[0m\u001b[0md\u001b[0m\u001b[0;34m)\u001b[0m \u001b[0;34m==\u001b[0m \u001b[0;34m\"other: 7\\nsomething: 4\"\u001b[0m\u001b[0;34m\u001b[0m\u001b[0m\n\u001b[0m",
      "\u001b[0;31mAssertionError\u001b[0m: "
     ]
    }
   ],
   "source": [
    "def dict_to_str_sorted(d):\n",
    "    import operator\n",
    "    \"\"\"Return an ordered str containing each key and value in dict d.\n",
    "\n",
    "    This is sorted version of dict_to_str().\n",
    "\n",
    "    Keys and values are separated by a colon and a space.\n",
    "    Each key-value pair is sorted in ascending order by key.\n",
    "\n",
    "    Note: This one is also doable in one line!\n",
    "\n",
    "    Parameters\n",
    "    ----------\n",
    "    input_dict : dict\n",
    "\n",
    "    Returns\n",
    "    -------\n",
    "    output_text : str\n",
    "    \"\"\"\n",
    "    \"\"\"\n",
    "    It is not possible to sort a dict, only to get a representation of a dict that is sorted. \n",
    "    Dicts are inherently orderless, but other types, such as lists and tuples, are not. \n",
    "    So you need a sorted representation, which will be a list—probably a list of tuples.\n",
    "    \"\"\"\n",
    "    sorted_d = sorted(d.items(), key=operator.itemgetter(1))\n",
    "    return sorted_d\n",
    "    # sorted_d will be a list of tuples sorted by the second element in each tuple. dict(sorted_d) == x.\n",
    "    \"\"\"Or...\n",
    "    >>>sorted(d.items(), key=lambda x: x[1])\n",
    "    This will sort the dictionary by the values of each entry within the dictionary from smallest to largest.\n",
    "    \"\"\"\n",
    "    \"\"\"\n",
    "    And for those wishing to sort on keys instead of values:\n",
    "    >>>import operator\n",
    "    x = {1: 2, 3: 4, 4: 3, 2: 1, 0: 0}\n",
    "    sorted_x = sorted(x.items(), key=operator.itemgetter(0))\n",
    "    \"\"\"\n",
    "\n",
    "d = {\"something\": 4, \"other\": 7}\n",
    "print(dict_to_str_sorted(d))\n",
    "assert dict_to_str_sorted(d) == \"other: 7\\nsomething: 4\""
   ]
  },
  {
   "cell_type": "code",
   "execution_count": 4,
   "metadata": {},
   "outputs": [
    {
     "name": "stdout",
     "output_type": "stream",
     "text": [
      "{'something else'}\n"
     ]
    }
   ],
   "source": [
    "def dict_difference(d1, d2):\n",
    "    \"\"\"Combine two dictionaries according to a specified set of rules.\n",
    "\n",
    "    Combine the two dictionaries, d1 and d2, as follows:\n",
    "        1. The keys are the union of the keys from each dictionary.\n",
    "        2. If a key is in both dictionaries, then the value for that\n",
    "           key should be the absolute value of the difference between\n",
    "           the two values for that key.\n",
    "        3. If a key is only in one dictionary, the value should be the\n",
    "           absolute value of that value for that key.\n",
    "\n",
    "    Parameters\n",
    "    ----------\n",
    "    d1 : dict\n",
    "    d2 : dict\n",
    "\n",
    "    Returns\n",
    "    -------\n",
    "    dict\n",
    "    \"\"\"\n",
    "    diff = set(d1).difference(set(d2))\n",
    "    return diff\n",
    "\n",
    "d1 = {\"something\": 4, \"something else\": 78, \"other\": 17}\n",
    "d2 = {\"something\": 4, \"other\": 7}\n",
    "print(dict_difference(d1, d2))\n",
    "assert dict_difference(d1, d2) == {\"something else\"}"
   ]
  },
  {
   "cell_type": "code",
   "execution_count": null,
   "metadata": {
    "collapsed": true
   },
   "outputs": [],
   "source": []
  }
 ],
 "metadata": {
  "kernelspec": {
   "display_name": "Python 3",
   "language": "python",
   "name": "python3"
  },
  "language_info": {
   "codemirror_mode": {
    "name": "ipython",
    "version": 3
   },
   "file_extension": ".py",
   "mimetype": "text/x-python",
   "name": "python",
   "nbconvert_exporter": "python",
   "pygments_lexer": "ipython3",
   "version": "3.6.1"
  }
 },
 "nbformat": 4,
 "nbformat_minor": 2
}
