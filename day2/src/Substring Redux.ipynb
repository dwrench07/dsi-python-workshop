{
 "cells": [
  {
   "cell_type": "markdown",
   "metadata": {},
   "source": [
    "## Efficient Substring Searching (without regex)"
   ]
  },
  {
   "cell_type": "markdown",
   "metadata": {},
   "source": [
    "Take Day 1 `substring` function. Today you're going to redo that function using a dictionary.\n",
    "\n",
    "Look at the divisors example from lecture for inspiration.\n",
    "\n",
    "1. Fill out the function in `substring.py`. Put in both your old and your new version so that you can compare them.\n",
    "\n",
    "2. Run `make substring` to make sure that both versions work properly.\n",
    "\n",
    "3. Use `%time` to see if it's improved in efficiency! Figure out an example input that's sufficiency large that you'll be able to test the difference.\n",
    "\n",
    "4. How would you change if instead you wanted for each substring, the list of words it was in?\n",
    "\n",
    "    *Hint: Use a `defaultdict`*."
   ]
  },
  {
   "cell_type": "code",
   "execution_count": 2,
   "metadata": {},
   "outputs": [
    {
     "name": "stdout",
     "output_type": "stream",
     "text": [
      "['if', 'be']\n"
     ]
    }
   ],
   "source": [
    "def substring(words, substrings):\n",
    "    \"\"\"\n",
    "    INPUT: list, list\n",
    "    OUTPUT: list\n",
    "\n",
    "    Given two lists of strings, return the list of strings from the second list\n",
    "    that are a substring of a string in the first list.\n",
    "\n",
    "    The strings in the substrings list are all 3 characters long.\n",
    "    \"\"\"\n",
    "    matches = []\n",
    "\n",
    "    for sub in substrings:\n",
    "        for word in words:\n",
    "            if sub in word:\n",
    "                matches.append(sub)\n",
    "    print(matches)\n",
    "    # return [sub for sub in substrings for word in words if sub in word]\n",
    "    return matches\n",
    "\n",
    "assert substring(['beautiful', 'world'], ['if', 'c', 'be']) == ['if', 'be']"
   ]
  },
  {
   "cell_type": "code",
   "execution_count": null,
   "metadata": {
    "collapsed": true
   },
   "outputs": [],
   "source": []
  }
 ],
 "metadata": {
  "kernelspec": {
   "display_name": "Python 3",
   "language": "python",
   "name": "python3"
  },
  "language_info": {
   "codemirror_mode": {
    "name": "ipython",
    "version": 3
   },
   "file_extension": ".py",
   "mimetype": "text/x-python",
   "name": "python",
   "nbconvert_exporter": "python",
   "pygments_lexer": "ipython3",
   "version": "3.6.1"
  }
 },
 "nbformat": 4,
 "nbformat_minor": 1
}
