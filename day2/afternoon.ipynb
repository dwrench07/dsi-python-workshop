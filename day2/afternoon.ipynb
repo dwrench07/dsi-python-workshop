{
 "cells": [
  {
   "cell_type": "markdown",
   "metadata": {},
   "source": [
    "## Processing exchange rate data\n",
    "\n",
    "The file `usd_cad.csv` contains exchange rates from USD to CAD from 2006-2014.\n",
    "\n",
    "Your job is to write a script which takes in the csv file and outputs:\n",
    "* The day-to-day _Conversion rate_ differences rounded to two decimal places and the count of the number of times each of these difference appears\n",
    "* The day with the biggest gain.\n",
    "\n",
    "Your output should look like this:"
   ]
  },
  {
   "cell_type": "code",
   "execution_count": null,
   "metadata": {
    "collapsed": true
   },
   "outputs": [],
   "source": [
    "-0.04: 2\n",
    "-0.03: 2\n",
    "-0.02: 20\n",
    "-0.01: 324\n",
    "0.0: 1570\n",
    "0.01: 301\n",
    "0.02: 31\n",
    "0.03: 6\n",
    "Day(s) with biggest gain (0.0333): 2011-09-21"
   ]
  },
  {
   "cell_type": "markdown",
   "metadata": {},
   "source": [
    "1. Start by just looking at the csv file. You can do this by writing `head usd_cad.csv` in the command line. This will give you the first 10 lines.\n",
    "\n",
    "2. Determine which functions you will need. You should have about 4 functions.\n",
    "\n",
    "3. Write a test case for each of your functions.\n",
    "\n",
    "#### Notes about good programming\n",
    "\n",
    "1. Use functions! And make sure no function is more than 10 lines.\n",
    "\n",
    "2. Use a `with open` clause to open the file.\n",
    "\n",
    "3. Do not use `f.read()` or `f.readlines()`. You should read line by line with a for loop: `for line in f`. You can also use `f.readline()` to read a single line.\n",
    "\n",
    "4. This is a great place to use a `Counter` and a `defaultdict`.\n",
    "\n",
    "#### Files to create\n",
    "\n",
    "1. `exchange.py`: Python file containing your script. It should get the example output above when run on the example file.\n",
    "\n",
    "2. `test_exchange.py`: A test file with at least one test function for each function you have written in `exchange.py`. \n",
    "\n",
    "\n",
    "#### Extra Credit\n",
    "\n",
    "We're going to use `sys.argv` from the [sys module](https://docs.python.org/2/library/sys.html) to enable your program to take the filename from the command line.\n",
    "\n",
    "Take a look at the example from yesterday to get an idea of how to approach this: [worldcup.py](../day1/code/worldcup.py)\n",
    "\n",
    "1.  First just in your main block print `sys.argv` and run your file. Now run your file with the command `python exchange.py usd_cad.csv`. What does it print?\n",
    "\n",
    "2. Use this to enable you to run the program like this:"
   ]
  },
  {
   "cell_type": "code",
   "execution_count": null,
   "metadata": {
    "collapsed": true
   },
   "outputs": [],
   "source": [
    "```\n",
    "python code/exchange.py data/usd_cad.csv\n",
    "```"
   ]
  },
  {
   "cell_type": "markdown",
   "metadata": {},
   "source": [
    "2. Make your program exit cleanly if given no filename or an invalid filename."
   ]
  },
  {
   "cell_type": "code",
   "execution_count": null,
   "metadata": {
    "collapsed": true
   },
   "outputs": [],
   "source": [
    "e.g. These two commands shouldn't work, but should just exit with a nice message.\n",
    "\n",
    "```\n",
    "python code/exchange.py not_a_real_file\n",
    "```\n",
    "\n",
    "```\n",
    "python code/exchange.py\n",
    "```"
   ]
  }
 ],
 "metadata": {
  "kernelspec": {
   "display_name": "Python 3",
   "language": "python",
   "name": "python3"
  },
  "language_info": {
   "codemirror_mode": {
    "name": "ipython",
    "version": 3
   },
   "file_extension": ".py",
   "mimetype": "text/x-python",
   "name": "python",
   "nbconvert_exporter": "python",
   "pygments_lexer": "ipython3",
   "version": "3.6.1"
  }
 },
 "nbformat": 4,
 "nbformat_minor": 1
}
